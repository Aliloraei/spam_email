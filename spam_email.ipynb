{
 "cells": [
  {
   "cell_type": "code",
   "execution_count": 1,
   "id": "f2bc5cbf",
   "metadata": {
    "ExecuteTime": {
     "end_time": "2025-08-07T13:54:58.717770Z",
     "start_time": "2025-08-07T13:54:58.688284Z"
    }
   },
   "outputs": [
    {
     "data": {
      "text/plain": "                                                   text target\n0     Go until jurong point, crazy.. Available only ...    ham\n1                         Ok lar... Joking wif u oni...    ham\n2     Free entry in 2 a wkly comp to win FA Cup fina...   spam\n3     U dun say so early hor... U c already then say...    ham\n4     Nah I don't think he goes to usf, he lives aro...    ham\n...                                                 ...    ...\n5567  This is the 2nd time we have tried 2 contact u...   spam\n5568              Will Ì_ b going to esplanade fr home?    ham\n5569  Pity, * was in mood for that. So...any other s...    ham\n5570  The guy did some bitching but I acted like i'd...    ham\n5571                         Rofl. Its true to its name    ham\n\n[5572 rows x 2 columns]",
      "text/html": "<div>\n<style scoped>\n    .dataframe tbody tr th:only-of-type {\n        vertical-align: middle;\n    }\n\n    .dataframe tbody tr th {\n        vertical-align: top;\n    }\n\n    .dataframe thead th {\n        text-align: right;\n    }\n</style>\n<table border=\"1\" class=\"dataframe\">\n  <thead>\n    <tr style=\"text-align: right;\">\n      <th></th>\n      <th>text</th>\n      <th>target</th>\n    </tr>\n  </thead>\n  <tbody>\n    <tr>\n      <th>0</th>\n      <td>Go until jurong point, crazy.. Available only ...</td>\n      <td>ham</td>\n    </tr>\n    <tr>\n      <th>1</th>\n      <td>Ok lar... Joking wif u oni...</td>\n      <td>ham</td>\n    </tr>\n    <tr>\n      <th>2</th>\n      <td>Free entry in 2 a wkly comp to win FA Cup fina...</td>\n      <td>spam</td>\n    </tr>\n    <tr>\n      <th>3</th>\n      <td>U dun say so early hor... U c already then say...</td>\n      <td>ham</td>\n    </tr>\n    <tr>\n      <th>4</th>\n      <td>Nah I don't think he goes to usf, he lives aro...</td>\n      <td>ham</td>\n    </tr>\n    <tr>\n      <th>...</th>\n      <td>...</td>\n      <td>...</td>\n    </tr>\n    <tr>\n      <th>5567</th>\n      <td>This is the 2nd time we have tried 2 contact u...</td>\n      <td>spam</td>\n    </tr>\n    <tr>\n      <th>5568</th>\n      <td>Will Ì_ b going to esplanade fr home?</td>\n      <td>ham</td>\n    </tr>\n    <tr>\n      <th>5569</th>\n      <td>Pity, * was in mood for that. So...any other s...</td>\n      <td>ham</td>\n    </tr>\n    <tr>\n      <th>5570</th>\n      <td>The guy did some bitching but I acted like i'd...</td>\n      <td>ham</td>\n    </tr>\n    <tr>\n      <th>5571</th>\n      <td>Rofl. Its true to its name</td>\n      <td>ham</td>\n    </tr>\n  </tbody>\n</table>\n<p>5572 rows × 2 columns</p>\n</div>"
     },
     "execution_count": 1,
     "metadata": {},
     "output_type": "execute_result"
    }
   ],
   "source": [
    "import pandas as pd\n",
    "data = pd.read_csv(\"spam.csv\")\n",
    "data"
   ]
  },
  {
   "cell_type": "code",
   "execution_count": 49,
   "id": "8662361f",
   "metadata": {},
   "outputs": [
    {
     "name": "stderr",
     "output_type": "stream",
     "text": [
      "[nltk_data] Downloading package stopwords to\n",
      "[nltk_data]     C:\\Users\\lora\\AppData\\Roaming\\nltk_data...\n",
      "[nltk_data]   Package stopwords is already up-to-date!\n"
     ]
    },
    {
     "data": {
      "text/plain": [
       "0       go until jurong point, crazy.. available only ...\n",
       "1                           ok lar... joking wif u oni...\n",
       "2       free entry in 2 a wkly comp to win fa cup fina...\n",
       "3       u dun say so early hor... u c already then say...\n",
       "4       nah i don't think he goes to usf, he lives aro...\n",
       "                              ...                        \n",
       "5567    this is the 2nd time we have tried 2 contact u...\n",
       "5568                will ì_ b going to esplanade fr home \n",
       "5569    pity,   was in mood for that. so...any other s...\n",
       "5570    the guy did some bitching but i acted like i'd...\n",
       "5571                           rofl. its true to its name\n",
       "Name: text, Length: 5572, dtype: object"
      ]
     },
     "execution_count": 49,
     "metadata": {},
     "output_type": "execute_result"
    }
   ],
   "source": [
    "import re\n",
    "import string\n",
    "from nltk.corpus import stopwords\n",
    "from nltk.stem import PorterStemmer\n",
    "import nltk\n",
    "nltk.download('stopwords')\n",
    "\n",
    "data[\"text\"] = data[\"text\"].str.lower()\n",
    "data[\"target\"] = data[\"target\"].str.lower()\n",
    "data[\"text\"] = data[\"text\"].str.replace(r\"[! ? * ]\", \" \", regex=True)\n",
    "text = data[\"text\"]\n",
    "def preprocess(text):\n",
    "    text = re.sub(r\"http\\S+|WWW.\\S+\",'',text) #removing links\n",
    "    text = re.sub(r'\\d+', '', text) #removing numbers\n",
    "    text = text.translate(str.maketrans('','',string.punctuation)) #remowing punctuation marks \n",
    "    words = text.split()  \n",
    "    \n",
    "    stop_words = set(stopwords.words('english'))\n",
    "    words = [w for w in words if w not in stop_words]\n",
    "\n",
    "    stemer = PorterStemmer()\n",
    "    words = [stemer.stem(w) for w in words]\n",
    "    return ''.join(words)\n",
    "text"
   ]
  },
  {
   "cell_type": "code",
   "execution_count": 55,
   "id": "eaf1f2f3",
   "metadata": {},
   "outputs": [],
   "source": [
    "from sklearn.feature_extraction.text import TfidfVectorizer\n",
    "vectorizer = TfidfVectorizer()\n",
    "x = vectorizer.fit_transform(text)\n",
    "y = data[\"target\"].map({\"ham\" : 0, 'spam' : 1})\n"
   ]
  },
  {
   "cell_type": "code",
   "execution_count": 51,
   "id": "8be23f32",
   "metadata": {},
   "outputs": [
    {
     "name": "stdout",
     "output_type": "stream",
     "text": [
      "              precision    recall  f1-score   support\n",
      "\n",
      "           0       1.00      0.97      0.99       149\n",
      "           1       0.83      1.00      0.90        19\n",
      "\n",
      "    accuracy                           0.98       168\n",
      "   macro avg       0.91      0.99      0.95       168\n",
      "weighted avg       0.98      0.98      0.98       168\n"
     ]
    }
   ],
   "source": [
    "from sklearn.model_selection import train_test_split\n",
    "from sklearn.naive_bayes import MultinomialNB\n",
    "from sklearn.metrics import classification_report\n",
    "\n",
    "xtrain, xtest , ytrain, ytest = train_test_split(x, y, test_size=0.03)\n",
    "model = MultinomialNB()\n",
    "model.fit(xtrain, ytrain)\n",
    "y_pred = model.predict(xtest)\n",
    "print(classification_report(y_pred, ytest))\n",
    "\n"
   ]
  },
  {
   "cell_type": "code",
   "execution_count": 59,
   "id": "43a83895",
   "metadata": {},
   "outputs": [
    {
     "name": "stdout",
     "output_type": "stream",
     "text": [
      "✅ This email is **HAM (not spam)**.\n"
     ]
    }
   ],
   "source": [
    "#Get input from user or define a new email text\n",
    "new_email = input(\"Enter the email text: \")\n",
    "\n",
    "#Preprocess the text (using the same previous function\n",
    "new_email_cleaned = preprocess(new_email)\n",
    "\n",
    "#Convert the cleaned text to numerical features (using the existing vectorizer)\n",
    "new_email_vectorized = vectorizer.transform([new_email_cleaned])  # Note: it must be a list\n",
    "\n",
    "#Predict using the trained model\n",
    "prediction = model.predict(new_email_vectorized)\n",
    "\n",
    "#Display the result\n",
    "if prediction[0] == 1:\n",
    "    print(\"📩 This email is **SPAM**.\")\n",
    "else:\n",
    "    print(\"✅ This email is **HAM (not spam)**.\")\n"
   ]
  },
  {
   "cell_type": "code",
   "execution_count": 58,
   "id": "ba48e1d7",
   "metadata": {},
   "outputs": [
    {
     "data": {
      "image/png": "[encoded data removed]",
      "text/plain": [
       "<Figure size 640x480 with 1 Axes>"
      ]
     },
     "metadata": {},
     "output_type": "display_data"
    }
   ],
   "source": [
    "import seaborn as sns\n",
    "import matplotlib.pyplot as plt\n",
    "\n",
    "# Plot the distribution of spam and ham emails\n",
    "sns.countplot(x='target', data=data)\n",
    "plt.title('Distribution of Spam and Ham Emails')\n",
    "plt.xlabel('target')\n",
    "plt.ylabel('text')\n",
    "plt.show()\n",
    "\n"
   ]
  }
 ],
 "metadata": {
  "kernelspec": {
   "display_name": "Python 3",
   "language": "python",
   "name": "python3"
  },
  "language_info": {
   "codemirror_mode": {
    "name": "ipython",
    "version": 3
   },
   "file_extension": ".py",
   "mimetype": "text/x-python",
   "name": "python",
   "nbconvert_exporter": "python",
   "pygments_lexer": "ipython3",
   "version": "3.12.8"
  }
 },
 "nbformat": 4,
 "nbformat_minor": 5
}
